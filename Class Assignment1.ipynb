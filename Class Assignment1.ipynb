{
 "cells": [
  {
   "cell_type": "code",
   "execution_count": 4,
   "id": "c60d8e46-58f5-4636-b06e-62e15923c507",
   "metadata": {},
   "outputs": [],
   "source": [
    "class SubfieldsInAI():\n",
    "    def Subfields():\n",
    "        print(\"Machine Learning\")\n",
    "        print(\"Neural Networks\")\n",
    "        print(\"Vision\")\n",
    "        print(\"Robotics\")\n",
    "        print(\"Speech Processing\")\n",
    "        print(\"Natural Language Processing\")\n",
    "        \n",
    "\n"
   ]
  },
  {
   "cell_type": "code",
   "execution_count": 5,
   "id": "9d6bee61-e705-4666-89e1-2ca88208f808",
   "metadata": {},
   "outputs": [
    {
     "name": "stdout",
     "output_type": "stream",
     "text": [
      "Machine Learning\n",
      "Neural Networks\n",
      "Vision\n",
      "Robotics\n",
      "Speech Processing\n",
      "Natural Language Processing\n"
     ]
    }
   ],
   "source": [
    "SubfieldsInAI.Subfields()"
   ]
  },
  {
   "cell_type": "code",
   "execution_count": 6,
   "id": "813d0416-1079-42d4-ba37-457cb119cb04",
   "metadata": {},
   "outputs": [],
   "source": [
    "class OddEven():\n",
    "    def OddEven():\n",
    "        Num=int(input(\"Enter The Number\"))\n",
    "        if((Num%2)==0):\n",
    "            print(\"Even Number\")\n",
    "        else:\n",
    "            print(\"Odd Number\")"
   ]
  },
  {
   "cell_type": "code",
   "execution_count": 9,
   "id": "e0b2ac80-8bd2-44b4-8e62-a261a5ba2dc1",
   "metadata": {},
   "outputs": [
    {
     "name": "stdin",
     "output_type": "stream",
     "text": [
      "Enter The Number 9\n"
     ]
    },
    {
     "name": "stdout",
     "output_type": "stream",
     "text": [
      "Odd Number\n"
     ]
    }
   ],
   "source": [
    "OddEven.OddEven()"
   ]
  },
  {
   "cell_type": "code",
   "execution_count": 51,
   "id": "888868bf-7a27-459a-bc2e-0fb6cc9e4ec3",
   "metadata": {},
   "outputs": [],
   "source": [
    "class ElegiblityForMarriage():\n",
    "    def Elegible():\n",
    "        gender=str(input(\"Enter your Gender\"))\n",
    "        age=int(input(\"Enter your Age\"))\n",
    "        if(gender==\"male\" or gender==\"female\" or gender==\"Male\" or gender==\"MALE\" or gender==\"Female\" or gender==\"FEMALE\"):\n",
    "            if(gender==\"male\" or \"Male\" or \"MALE\"):\n",
    "              if(age<21):  \n",
    "                print(\"Your Gender\",gender)\n",
    "                print(\"Your Age\",age)\n",
    "                print(\"Not /eligible\")\n",
    "              else:\n",
    "                print(\"Your Gender\",gender)\n",
    "                print(\"Your Age\",age)\n",
    "                print(\"eligible\")   \n",
    "            else: \n",
    "                if(gender==\"female\" or \"Female\" or \"FEMALE\"):\n",
    "                    if(age<18):  \n",
    "                        print(\"Your Gender\",gender)\n",
    "                        print(\"Your Age\",age)\n",
    "                        print(\"Not /eligible\")\n",
    "                    else:\n",
    "                        print(\"Your Gender\",gender)\n",
    "                        print(\"Your Age\",age)\n",
    "                        print(\"eligible\") \n",
    "                       \n",
    "                       \n",
    "        else:\n",
    "            print(\"Wrong Gender\")\n",
    "            \n",
    "    \n",
    "\n",
    "\n",
    "        \n",
    "    "
   ]
  },
  {
   "cell_type": "code",
   "execution_count": 54,
   "id": "98b1c6d9-f877-4b2b-9f9f-64673d690b2b",
   "metadata": {},
   "outputs": [
    {
     "name": "stdin",
     "output_type": "stream",
     "text": [
      "Enter your Gender Male\n",
      "Enter your Age 4\n"
     ]
    },
    {
     "name": "stdout",
     "output_type": "stream",
     "text": [
      "Your Gender Male\n",
      "Your Age 4\n",
      "Not /eligible\n"
     ]
    }
   ],
   "source": [
    "ElegiblityForMarriage.Elegible()\n",
    "\n"
   ]
  },
  {
   "cell_type": "code",
   "execution_count": null,
   "id": "56d43c87-7c79-4995-aebf-8790fad13418",
   "metadata": {},
   "outputs": [],
   "source": []
  },
  {
   "cell_type": "code",
   "execution_count": 58,
   "id": "bd43c2a9-1df0-40a5-8b93-edfcefd6bc3a",
   "metadata": {},
   "outputs": [],
   "source": [
    "class findpercent():\n",
    "    def Percentage():\n",
    "        print(\"Enter Your Marks\")\n",
    "        m1=int(input(\"Subject1\"))\n",
    "        m2=int(input(\"Subject2\"))\n",
    "        m3=int(input(\"Subject3\"))\n",
    "        m4=int(input(\"Subject4\"))\n",
    "        m5=int(input(\"Subject5\"))\n",
    "        tot=m1+m2+m3+m4+m5\n",
    "        avg=tot/5\n",
    "        print(\"Subject1\",m1)\n",
    "        print(\"Subject2\",m2)\n",
    "        print(\"Subject3\",m3)\n",
    "        print(\"Subject4\",m4)\n",
    "        print(\"Subject5\",m5)\n",
    "        print(\"Total Marks Is\",tot)\n",
    "        print(\"Average is \",avg)\n",
    "\n",
    "    \n",
    "\n"
   ]
  },
  {
   "cell_type": "code",
   "execution_count": 60,
   "id": "caf3b999-b07d-4e0c-a51a-40f0fbbe30fb",
   "metadata": {},
   "outputs": [
    {
     "name": "stdout",
     "output_type": "stream",
     "text": [
      "Enter Your Marks\n"
     ]
    },
    {
     "name": "stdin",
     "output_type": "stream",
     "text": [
      "Subject1 98\n",
      "Subject2 99\n",
      "Subject3 98\n",
      "Subject4 97\n",
      "Subject5 90\n"
     ]
    },
    {
     "name": "stdout",
     "output_type": "stream",
     "text": [
      "Subject1 98\n",
      "Subject2 99\n",
      "Subject3 98\n",
      "Subject4 97\n",
      "Subject5 90\n",
      "Total Marks Is 482\n",
      "Average is  96.4\n"
     ]
    }
   ],
   "source": [
    "findpercent.Percentage()"
   ]
  },
  {
   "cell_type": "code",
   "execution_count": 68,
   "id": "66026ecf-0862-46d6-a1c7-6de24012ae2e",
   "metadata": {},
   "outputs": [],
   "source": [
    "class triangle():\n",
    "    def areaofTriangle():\n",
    "        height=int(input(\"Enter Height\"))\n",
    "        breadth=int(input(\"Enter Breadth\"))\n",
    "        area=height*breadth/2\n",
    "        print(\"Area Of Triangle\",area)\n",
    "    def perimeterofTriangle():\n",
    "        height1=int(input(\"Enter Height1\"))\n",
    "        height2=int(input(\"Enter Height2\"))\n",
    "        breadth=int(input(\"Enter Breadth\"))\n",
    "        Perimeter=height1+height2+breadth\n",
    "        print(\"Perimeter of Triangle\",Perimeter)\n"
   ]
  },
  {
   "cell_type": "code",
   "execution_count": 69,
   "id": "3f8aa4f9-658b-4e50-91c8-1b7e5f548671",
   "metadata": {},
   "outputs": [
    {
     "name": "stdin",
     "output_type": "stream",
     "text": [
      "Enter Height 2\n",
      "Enter Breadth 3\n"
     ]
    },
    {
     "name": "stdout",
     "output_type": "stream",
     "text": [
      "Area Of Triangle 3.0\n"
     ]
    },
    {
     "name": "stdin",
     "output_type": "stream",
     "text": [
      "Enter Height1 3\n",
      "Enter Height2 4\n",
      "Enter Breadth 5\n"
     ]
    },
    {
     "name": "stdout",
     "output_type": "stream",
     "text": [
      "Perimeter of Triangle 12\n"
     ]
    }
   ],
   "source": [
    "triangle.areaofTriangle()\n",
    "triangle.perimeterofTriangle()\n"
   ]
  },
  {
   "cell_type": "code",
   "execution_count": 67,
   "id": "e1985bc0-f364-4941-8ad6-f4408ddfb045",
   "metadata": {},
   "outputs": [
    {
     "name": "stdin",
     "output_type": "stream",
     "text": [
      "Enter Height1 2\n",
      "Enter Height2 3\n",
      "Enter Breadth 4\n"
     ]
    },
    {
     "name": "stdout",
     "output_type": "stream",
     "text": [
      "Perimeter of Triangle 9\n"
     ]
    }
   ],
   "source": [
    "\n"
   ]
  },
  {
   "cell_type": "code",
   "execution_count": null,
   "id": "c24cc723-c06e-458f-a1ac-e03f99b9ab14",
   "metadata": {},
   "outputs": [],
   "source": []
  }
 ],
 "metadata": {
  "kernelspec": {
   "display_name": "Python 3 (ipykernel)",
   "language": "python",
   "name": "python3"
  },
  "language_info": {
   "codemirror_mode": {
    "name": "ipython",
    "version": 3
   },
   "file_extension": ".py",
   "mimetype": "text/x-python",
   "name": "python",
   "nbconvert_exporter": "python",
   "pygments_lexer": "ipython3",
   "version": "3.12.7"
  }
 },
 "nbformat": 4,
 "nbformat_minor": 5
}
