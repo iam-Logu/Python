{
 "cells": [
  {
   "cell_type": "code",
   "execution_count": 1,
   "id": "a9da9eec-64e4-4656-bde1-492a05cd8cbd",
   "metadata": {},
   "outputs": [
    {
     "name": "stdout",
     "output_type": "stream",
     "text": [
      "Welcome to Assignment 1\n"
     ]
    }
   ],
   "source": [
    "print(\"Welcome to Assignment 1\")"
   ]
  },
  {
   "cell_type": "code",
   "execution_count": 2,
   "id": "61d9e896-e37e-4b65-891e-f42fae40807b",
   "metadata": {},
   "outputs": [
    {
     "name": "stdout",
     "output_type": "stream",
     "text": [
      "40\n"
     ]
    }
   ],
   "source": [
    "Num1=10\n",
    "Num2=30\n",
    "Add=Num1+Num2\n",
    "print(Add)"
   ]
  },
  {
   "cell_type": "code",
   "execution_count": 4,
   "id": "5e8e2a9d-ff84-4ebb-8585-6407202d32de",
   "metadata": {},
   "outputs": [
    {
     "name": "stdout",
     "output_type": "stream",
     "text": [
      "Num1= 10\n",
      "Num2= 30\n",
      "Add= 40\n"
     ]
    }
   ],
   "source": [
    "print(\"Num1=\",Num1)\n",
    "print(\"Num2=\",Num2)\n",
    "print(\"Add=\",Add)"
   ]
  },
  {
   "cell_type": "code",
   "execution_count": 15,
   "id": "d1751176-1402-448b-9f44-868526644dea",
   "metadata": {},
   "outputs": [
    {
     "name": "stdin",
     "output_type": "stream",
     "text": [
      "Enter Your Weight 62\n",
      "Enter Your Height in CM  170\n"
     ]
    },
    {
     "name": "stdout",
     "output_type": "stream",
     "text": [
      "BMI Is  21.453287197231838\n"
     ]
    }
   ],
   "source": [
    "#BMI\n",
    "Weight=int(input(\"Enter Your Weight\"))\n",
    "Height=int(input(\"Enter Your Height in CM \"))\n",
    "Height2=(Height*0.01)\n",
    "#print(Height2)\n",
    "m2=Height2*Height2\n",
    "#print(m2)\n",
    "BMI=Weight/m2\n",
    "print(\"BMI Is \",BMI)\n",
    "\n"
   ]
  },
  {
   "cell_type": "code",
   "execution_count": 26,
   "id": "69320e00-6a3a-4142-8ef1-f106e444dfcf",
   "metadata": {},
   "outputs": [
    {
     "name": "stdin",
     "output_type": "stream",
     "text": [
      "Enter Your BMI 40\n"
     ]
    },
    {
     "name": "stdout",
     "output_type": "stream",
     "text": [
      "Obesity Class3\n"
     ]
    }
   ],
   "source": [
    "BMI=int(input(\"Enter Your BMI\"))\n",
    "if(BMI<18.5):\n",
    "    print(\"UnderWeight\")\n",
    "elif(BMI<24.9):\n",
    "    print(\"Normal Weight\")\n",
    "elif(BMI<29.9):\n",
    "    print(\"OverWeight\")\n",
    "elif(BMI<34.9):\n",
    "    print(\"Obesity Class1\")\n",
    "elif(BMI<39.9):\n",
    "    print(\"Obesity Class2\")\n",
    "else:\n",
    "    print(\"Obesity Class3\")\n",
    "    \n",
    "    "
   ]
  },
  {
   "cell_type": "code",
   "execution_count": null,
   "id": "6c35c044-4694-4435-be63-5d0bda5d2cb6",
   "metadata": {},
   "outputs": [],
   "source": []
  }
 ],
 "metadata": {
  "kernelspec": {
   "display_name": "Python 3 (ipykernel)",
   "language": "python",
   "name": "python3"
  },
  "language_info": {
   "codemirror_mode": {
    "name": "ipython",
    "version": 3
   },
   "file_extension": ".py",
   "mimetype": "text/x-python",
   "name": "python",
   "nbconvert_exporter": "python",
   "pygments_lexer": "ipython3",
   "version": "3.12.7"
  }
 },
 "nbformat": 4,
 "nbformat_minor": 5
}
