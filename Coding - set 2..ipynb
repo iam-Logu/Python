{
 "cells": [
  {
   "cell_type": "code",
   "execution_count": 6,
   "id": "aba1475d",
   "metadata": {},
   "outputs": [
    {
     "name": "stdout",
     "output_type": "stream",
     "text": [
      "olleh\n"
     ]
    }
   ],
   "source": [
    "#1.Write a Python program to find the reverse of a string. Expected Output (for input \"hello\"):\n",
    "#olleh\n",
    "a=\"hello\"\n",
    "str(a)\n",
    "x=\"\"\n",
    "for i in a:\n",
    "    x=i+x\n",
    "print(x)\n"
   ]
  },
  {
   "cell_type": "code",
   "execution_count": 12,
   "id": "5b1ec143",
   "metadata": {},
   "outputs": [
    {
     "name": "stdin",
     "output_type": "stream",
     "text": [
      "Enter num 4\n"
     ]
    },
    {
     "name": "stdout",
     "output_type": "stream",
     "text": [
      "0\n",
      "1\n",
      "1\n",
      "2\n",
      "3\n"
     ]
    }
   ],
   "source": [
    "#2.Write a Python program to generate the Fibonacci sequence up to 10 terms.\n",
    "#Expected Output:\n",
    "#0 1 1 2 3 5 8 13 21 34\n",
    "num=int(input(\"Enter num\"))\n",
    "if(num>2):\n",
    "    f=0\n",
    "    print(f)\n",
    "    s=1\n",
    "    print(s)\n",
    "    count=2\n",
    "    while count<=num:\n",
    "        t=f+s\n",
    "        print(t)\n",
    "        count=count+1\n",
    "        f=s\n",
    "        s=t\n",
    "if(num==1):\n",
    "    print(0)\n",
    "if(num==2):\n",
    "    print(0)\n",
    "    print(1)"
   ]
  },
  {
   "cell_type": "code",
   "execution_count": 45,
   "id": "c656f04a",
   "metadata": {},
   "outputs": [
    {
     "name": "stdout",
     "output_type": "stream",
     "text": [
      "Palindrome\n"
     ]
    }
   ],
   "source": [
    "#3.Write a Python function to check if a given string is a palindrome.\n",
    "#Expected Output (for input \"madam\"):\n",
    "#madam is a palindrome\n",
    "str=\"MAM\"\n",
    "str1=\"\"\n",
    "for i in str:\n",
    "    str1=i+str1\n",
    "if(str==str1):\n",
    "    print(\"Palindrome\")\n",
    "else:\n",
    "    print(\"Not in Palindrome\")\n",
    "   \n"
   ]
  },
  {
   "cell_type": "code",
   "execution_count": 35,
   "id": "cd7b0a78",
   "metadata": {},
   "outputs": [
    {
     "name": "stdout",
     "output_type": "stream",
     "text": [
      "No Of Vowels 2\n"
     ]
    }
   ],
   "source": [
    "\n",
    "\n",
    "#4.Write a Python program to count the number of vowels in a given string. \n",
    "#Expected Output (for input \"education\"):\n",
    "\n",
    "#Number of vowels: 5\n",
    "name=\"logu\"\n",
    "vowels=\"aeiouAEIOU\"\n",
    "count=0\n",
    "for i in name:\n",
    "    if i in vowels:\n",
    "        count=count+1\n",
    "        \n",
    "\n",
    "        \n",
    "print(\"No Of Vowels\",count)\n",
    "\n",
    "\n",
    "\n",
    "\n"
   ]
  },
  {
   "cell_type": "code",
   "execution_count": 31,
   "id": "bdbb9b19",
   "metadata": {},
   "outputs": [
    {
     "name": "stdout",
     "output_type": "stream",
     "text": [
      "{1, 2, 3, 4, 5}\n"
     ]
    }
   ],
   "source": [
    "#5.Write a Python program to remove duplicates from a list.\n",
    "#Expected Output (for input [1, 2, 2, 3, 4, 4, 5]):\n",
    "\n",
    "# [1, 2, 3, 4, 5]\n",
    "\n",
    "num =[1, 2, 2, 3, 4, 4, 5]\n",
    "dup=set(num)  \n",
    "print(dup)"
   ]
  },
  {
   "cell_type": "code",
   "execution_count": null,
   "id": "7317bbed-9b17-40c4-a8cd-2b91951bc2b5",
   "metadata": {},
   "outputs": [],
   "source": []
  }
 ],
 "metadata": {
  "kernelspec": {
   "display_name": "Python 3 (ipykernel)",
   "language": "python",
   "name": "python3"
  },
  "language_info": {
   "codemirror_mode": {
    "name": "ipython",
    "version": 3
   },
   "file_extension": ".py",
   "mimetype": "text/x-python",
   "name": "python",
   "nbconvert_exporter": "python",
   "pygments_lexer": "ipython3",
   "version": "3.12.7"
  }
 },
 "nbformat": 4,
 "nbformat_minor": 5
}
