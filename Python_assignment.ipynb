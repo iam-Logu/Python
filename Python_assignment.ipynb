{
 "cells": [
  {
   "cell_type": "code",
   "execution_count": 3,
   "id": "a653a7ac-7b22-45f1-80ea-87965575fb3d",
   "metadata": {},
   "outputs": [
    {
     "name": "stdin",
     "output_type": "stream",
     "text": [
      "Enter Your Age 4\n"
     ]
    },
    {
     "name": "stdout",
     "output_type": "stream",
     "text": [
      "You Are Not Eligible For vote\n"
     ]
    }
   ],
   "source": [
    "#scenaio1\n",
    "Age=int(input(\"Enter Your Age\"))\n",
    "if(Age<18):\n",
    "    print(\"You Are Not Eligible For vote\")\n",
    "else:\n",
    "    print(\"You are Eligible for Vote\")\n"
   ]
  },
  {
   "cell_type": "code",
   "execution_count": 36,
   "id": "fda81988-3cd5-4ae1-b64f-ba569cc3af98",
   "metadata": {},
   "outputs": [
    {
     "name": "stdout",
     "output_type": "stream",
     "text": [
      "Largest No Is 7\n"
     ]
    }
   ],
   "source": [
    "#scenaio2\n",
    "\n",
    "list=[7,1,2,3,4,5]\n",
    "maxi=list[0]\n",
    "for i in list:\n",
    "    if(maxi<i):\n",
    "        maxi=i\n",
    "\n",
    "print(\"Largest No Is\",maxi)\n",
    "    \n",
    "    \n",
    "    "
   ]
  },
  {
   "cell_type": "code",
   "execution_count": 34,
   "id": "a1e38bd9-3540-4c0c-b32e-bde06870976c",
   "metadata": {},
   "outputs": [
    {
     "name": "stdin",
     "output_type": "stream",
     "text": [
      "Enter Your Salary 50000\n"
     ]
    },
    {
     "name": "stdout",
     "output_type": "stream",
     "text": [
      "Your  Bounus Amt Is 5000.0\n"
     ]
    }
   ],
   "source": [
    "#scenaio3\n",
    "EmpSalary=int(input(\"Enter Your Salary\"))\n",
    "if(EmpSalary >= 50000):\n",
    "    bonus=EmpSalary*10/100\n",
    "    print(\"Your  Bounus Amt Is\",bonus)\n",
    "else:\n",
    "    print(\"You are not eligible for Bonus\")\n"
   ]
  },
  {
   "cell_type": "code",
   "execution_count": 38,
   "id": "df670a5c-c18b-47e9-95b8-ca1caf338d2d",
   "metadata": {},
   "outputs": [
    {
     "name": "stdin",
     "output_type": "stream",
     "text": [
      "Enter num 3\n"
     ]
    },
    {
     "name": "stdout",
     "output_type": "stream",
     "text": [
      "Odd Number\n"
     ]
    }
   ],
   "source": [
    "#scenario4\n",
    "num=int(input(\"Enter num\"))\n",
    "if(num%2==0):\n",
    "    print(\"Even number\")\n",
    "else:\n",
    "    print(\"Odd Number\")\n"
   ]
  },
  {
   "cell_type": "code",
   "execution_count": 55,
   "id": "511d1900-166b-49fa-ade1-d5c669cf7d2e",
   "metadata": {},
   "outputs": [
    {
     "name": "stdout",
     "output_type": "stream",
     "text": [
      "ugoL\n"
     ]
    }
   ],
   "source": [
    "#scenario5\n",
    "name=\"Logu\"\n",
    "x=\"\"\n",
    "\n",
    "for i in name:\n",
    "    x=i+x\n",
    "print(x)\n",
    "    \n",
    "        \n",
    "        \n",
    "    \n",
    "    \n"
   ]
  },
  {
   "cell_type": "code",
   "execution_count": 61,
   "id": "5658fd5f-e813-4ad3-a1f0-600d2e0d2372",
   "metadata": {},
   "outputs": [
    {
     "name": "stdin",
     "output_type": "stream",
     "text": [
      "Enter your marks 40\n"
     ]
    },
    {
     "name": "stdout",
     "output_type": "stream",
     "text": [
      "Pass\n"
     ]
    }
   ],
   "source": [
    "#scenario6\n",
    "mark=int(input(\"Enter your marks\"))\n",
    "if(mark < 40):\n",
    "    print(\"Fail\")\n",
    "else:\n",
    "    print(\"Pass\")"
   ]
  },
  {
   "cell_type": "code",
   "execution_count": 80,
   "id": "689bc647-a117-48c3-8a4c-90c1caec52b0",
   "metadata": {},
   "outputs": [
    {
     "name": "stdout",
     "output_type": "stream",
     "text": [
      "Final amt without discount 31\n"
     ]
    }
   ],
   "source": [
    "#scenario7\n",
    "billamt=31\n",
    "if(billamt>100):\n",
    "    discount=billamt*20/100\n",
    "    amt=billamt-discount\n",
    "    print(\"Final Amt with 20% discount \",amt)\n",
    "else:\n",
    "    print(\"Final amt without discount\",billamt)\n",
    "    \n",
    "    "
   ]
  },
  {
   "cell_type": "code",
   "execution_count": 83,
   "id": "c48db3e8-9923-4281-829a-828a161d5e82",
   "metadata": {},
   "outputs": [
    {
     "name": "stdin",
     "output_type": "stream",
     "text": [
      "Enter Witthdrawal amt 12000\n"
     ]
    },
    {
     "name": "stdout",
     "output_type": "stream",
     "text": [
      "Not enough money for withdrawal\n"
     ]
    }
   ],
   "source": [
    "#scenario8\n",
    "currentbalance=10000\n",
    "withdrawal=int(input(\"Enter Witthdrawal amt\"))\n",
    "if(currentbalance<withdrawal):\n",
    "    print(\"Not enough money for withdrawal\")\n",
    "else:\n",
    "    print(\"Debited amt \",withdrawal)"
   ]
  },
  {
   "cell_type": "code",
   "execution_count": 101,
   "id": "fdd2ab19-131d-4ddc-88d7-efc36820edcc",
   "metadata": {},
   "outputs": [
    {
     "name": "stdin",
     "output_type": "stream",
     "text": [
      "Enter Year 2000\n"
     ]
    },
    {
     "name": "stdout",
     "output_type": "stream",
     "text": [
      "Leap Year\n"
     ]
    }
   ],
   "source": [
    "#scenario9\n",
    "year=int(input(\"Enter Year\"))\n",
    "if(year%4==0):\n",
    "    if(year%100==0):\n",
    "        if(year%400==0):\n",
    "            print(\"Leap Year\")\n",
    "        else:\n",
    "            print(\"Not Leap Year\")       \n",
    "    else:\n",
    "        print(\"Leap Year\")\n",
    "    \n",
    "else:\n",
    "    print(\"Not Leap Year\")\n",
    "    "
   ]
  },
  {
   "cell_type": "code",
   "execution_count": 93,
   "id": "a652df4e-e9ee-4c29-8f23-e8385d753dd4",
   "metadata": {},
   "outputs": [
    {
     "name": "stdout",
     "output_type": "stream",
     "text": [
      "Even no is  2\n",
      "Even no is  4\n",
      "Even no is  6\n"
     ]
    }
   ],
   "source": [
    "#scenario10\n",
    "list=[1,2,3,4,5,6]\n",
    "even=[]\n",
    "for i in list:\n",
    "    if(i%2==0):\n",
    "        even=i\n",
    "        print(\"Even no is \",even)\n",
    "        "
   ]
  },
  {
   "cell_type": "code",
   "execution_count": null,
   "id": "7b4451a8-70fe-4c6d-af10-e7b237c68b1b",
   "metadata": {},
   "outputs": [],
   "source": []
  }
 ],
 "metadata": {
  "kernelspec": {
   "display_name": "Python 3 (ipykernel)",
   "language": "python",
   "name": "python3"
  },
  "language_info": {
   "codemirror_mode": {
    "name": "ipython",
    "version": 3
   },
   "file_extension": ".py",
   "mimetype": "text/x-python",
   "name": "python",
   "nbconvert_exporter": "python",
   "pygments_lexer": "ipython3",
   "version": "3.12.7"
  }
 },
 "nbformat": 4,
 "nbformat_minor": 5
}
