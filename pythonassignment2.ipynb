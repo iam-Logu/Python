{
 "cells": [
  {
   "cell_type": "code",
   "execution_count": 14,
   "id": "71ef11d2-c9a8-478e-a9a1-a02fb46441db",
   "metadata": {},
   "outputs": [
    {
     "name": "stdin",
     "output_type": "stream",
     "text": [
      "Enter Amount 0\n"
     ]
    },
    {
     "name": "stdout",
     "output_type": "stream",
     "text": [
      "Zero\n"
     ]
    }
   ],
   "source": [
    "#scenario1\n",
    "amt=int(input(\"Enter Amount\"))\n",
    "if(amt<=1):\n",
    "    if(amt==0):\n",
    "        print(\"Zero\")\n",
    "    else:\n",
    "        print(\"Negative Number\")\n",
    "else:\n",
    "    print(\"Positive Number\")\n",
    "    \n"
   ]
  },
  {
   "cell_type": "code",
   "execution_count": 16,
   "id": "6fd72f37-9055-4efc-b478-3458b2a4209f",
   "metadata": {},
   "outputs": [
    {
     "name": "stdout",
     "output_type": "stream",
     "text": [
      "Sum of digits: 21\n"
     ]
    }
   ],
   "source": [
    "#scenario2\n",
    "#Sum of Digit\n",
    "num = 123456\n",
    "Sum = 0\n",
    "while num > 0:\n",
    "    Sum = Sum+ num % 10\n",
    "    num //= 10         \n",
    "\n",
    "print(\"Sum of digits:\",Sum)\n"
   ]
  },
  {
   "cell_type": "code",
   "execution_count": 17,
   "id": "233cd5cb-8720-477c-9d09-85c73d9a7b5b",
   "metadata": {},
   "outputs": [
    {
     "name": "stdout",
     "output_type": "stream",
     "text": [
      "54321\n"
     ]
    }
   ],
   "source": [
    "#scenario3\n",
    "#reverse number\n",
    "num = 12345\n",
    "rev = 0\n",
    "\n",
    "while num > 0:\n",
    "    digit = num % 10                  \n",
    "    rev = rev * 10 + digit  \n",
    "    num = num // 10   \n",
    "print(rev)    \n"
   ]
  },
  {
   "cell_type": "code",
   "execution_count": 23,
   "id": "0e066497-1cd1-461c-84b9-867e6ece7043",
   "metadata": {},
   "outputs": [
    {
     "name": "stdin",
     "output_type": "stream",
     "text": [
      "Enter num 7\n"
     ]
    },
    {
     "name": "stdout",
     "output_type": "stream",
     "text": [
      "Prime\n"
     ]
    }
   ],
   "source": [
    "#scenario4\n",
    "#prime or not\n",
    "num=int(input(\"Enter num\"))\n",
    "count=0\n",
    "for i in range(1,num+1):\n",
    "    if(num%i==0):\n",
    "        count=count+1\n",
    "if(count==2):\n",
    "     print(\"Prime\")\n",
    "else:\n",
    "     print(\"Not Prime\")\n",
    "        \n",
    "\n"
   ]
  },
  {
   "cell_type": "code",
   "execution_count": null,
   "id": "3b030367-3a37-4c4a-a9b6-eeea0f224206",
   "metadata": {},
   "outputs": [],
   "source": []
  }
 ],
 "metadata": {
  "kernelspec": {
   "display_name": "Python 3 (ipykernel)",
   "language": "python",
   "name": "python3"
  },
  "language_info": {
   "codemirror_mode": {
    "name": "ipython",
    "version": 3
   },
   "file_extension": ".py",
   "mimetype": "text/x-python",
   "name": "python",
   "nbconvert_exporter": "python",
   "pygments_lexer": "ipython3",
   "version": "3.12.7"
  }
 },
 "nbformat": 4,
 "nbformat_minor": 5
}
