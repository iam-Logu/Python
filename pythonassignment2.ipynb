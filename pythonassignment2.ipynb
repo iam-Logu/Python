{
 "cells": [
  {
   "cell_type": "code",
   "execution_count": 14,
   "id": "71ef11d2-c9a8-478e-a9a1-a02fb46441db",
   "metadata": {},
   "outputs": [
    {
     "name": "stdin",
     "output_type": "stream",
     "text": [
      "Enter Amount 0\n"
     ]
    },
    {
     "name": "stdout",
     "output_type": "stream",
     "text": [
      "Zero\n"
     ]
    }
   ],
   "source": [
    "#scenario1\n",
    "amt=int(input(\"Enter Amount\"))\n",
    "if(amt<=1):\n",
    "    if(amt==0):\n",
    "        print(\"Zero\")\n",
    "    else:\n",
    "        print(\"Negative Number\")\n",
    "else:\n",
    "    print(\"Positive Number\")\n",
    "    \n"
   ]
  },
  {
   "cell_type": "code",
   "execution_count": 16,
   "id": "6fd72f37-9055-4efc-b478-3458b2a4209f",
   "metadata": {},
   "outputs": [
    {
     "name": "stdout",
     "output_type": "stream",
     "text": [
      "Sum of digits: 21\n"
     ]
    }
   ],
   "source": [
    "#scenario2\n",
    "#Sum of Digit\n",
    "num = 123456\n",
    "Sum = 0\n",
    "while num > 0:\n",
    "    Sum = Sum+ num % 10\n",
    "    num //= 10         \n",
    "\n",
    "print(\"Sum of digits:\",Sum)\n"
   ]
  },
  {
   "cell_type": "code",
   "execution_count": 17,
   "id": "233cd5cb-8720-477c-9d09-85c73d9a7b5b",
   "metadata": {},
   "outputs": [
    {
     "name": "stdout",
     "output_type": "stream",
     "text": [
      "54321\n"
     ]
    }
   ],
   "source": [
    "#scenario3\n",
    "#reverse number\n",
    "num = 12345\n",
    "rev = 0\n",
    "\n",
    "while num > 0:\n",
    "    digit = num % 10                  \n",
    "    rev = rev * 10 + digit  \n",
    "    num = num // 10   \n",
    "print(rev)    \n"
   ]
  },
  {
   "cell_type": "code",
   "execution_count": 23,
   "id": "0e066497-1cd1-461c-84b9-867e6ece7043",
   "metadata": {},
   "outputs": [
    {
     "name": "stdin",
     "output_type": "stream",
     "text": [
      "Enter num 7\n"
     ]
    },
    {
     "name": "stdout",
     "output_type": "stream",
     "text": [
      "Prime\n"
     ]
    }
   ],
   "source": [
    "#scenario4\n",
    "#prime or not\n",
    "num=int(input(\"Enter num\"))\n",
    "count=0\n",
    "for i in range(1,num+1):\n",
    "    if(num%i==0):\n",
    "        count=count+1\n",
    "if(count==2):\n",
    "     print(\"Prime\")\n",
    "else:\n",
    "     print(\"Not Prime\")\n",
    "        \n",
    "\n"
   ]
  },
  {
   "cell_type": "code",
   "execution_count": 3,
   "id": "3b030367-3a37-4c4a-a9b6-eeea0f224206",
   "metadata": {},
   "outputs": [
    {
     "name": "stdout",
     "output_type": "stream",
     "text": [
      "Number: 4\n",
      "Factorial: 24\n"
     ]
    }
   ],
   "source": [
    "#scenario5\n",
    "#Factorial recurion\n",
    "def factorial(n):\n",
    "    result = 1\n",
    "    for i in range(2, n + 1):\n",
    "        result *= i\n",
    "    return result\n",
    "\n",
    "num = 4\n",
    "print(\"Number:\", num)\n",
    "print(\"Factorial:\", factorial(num))"
   ]
  },
  {
   "cell_type": "code",
   "execution_count": 4,
   "id": "217699b3-86b7-4ee2-992a-c932814d0081",
   "metadata": {},
   "outputs": [
    {
     "name": "stdin",
     "output_type": "stream",
     "text": [
      "Enter a number:  4\n"
     ]
    },
    {
     "name": "stdout",
     "output_type": "stream",
     "text": [
      "Armstrong number\n"
     ]
    }
   ],
   "source": [
    "#scenario6\n",
    "#Armstrrong number\n",
    "num = int(input(\"Enter a number: \"))\n",
    "sum = 0\n",
    "temp = num\n",
    "n = len(str(num))\n",
    "\n",
    "while temp > 0:\n",
    "    digit = temp % 10\n",
    "    sum += digit ** n\n",
    "    temp //= 10\n",
    "\n",
    "if sum == num:\n",
    "    print(\"Armstrong number\")\n",
    "else:\n",
    "    print(\"Not an Armstrong number\")"
   ]
  },
  {
   "cell_type": "code",
   "execution_count": 9,
   "id": "f4219600-d24f-49a6-a5f3-804f134757f8",
   "metadata": {},
   "outputs": [
    {
     "name": "stdin",
     "output_type": "stream",
     "text": [
      "logu sso\n"
     ]
    },
    {
     "name": "stdout",
     "output_type": "stream",
     "text": [
      "oss\n"
     ]
    }
   ],
   "source": [
    "#senario7\n",
    "s = input(\"enter string\")\n",
    "\n",
    "if len(s) < 2:\n",
    "    print(s)\n",
    "else:\n",
    "    print(s[-1] + s[1:-1] + s[0])\n",
    "\n"
   ]
  },
  {
   "cell_type": "code",
   "execution_count": 11,
   "id": "774fb28a-3dd7-4f66-9b59-2113d0b75a3b",
   "metadata": {},
   "outputs": [
    {
     "name": "stdin",
     "output_type": "stream",
     "text": [
      "Enter a decimal number:  10\n"
     ]
    },
    {
     "name": "stdout",
     "output_type": "stream",
     "text": [
      "Binary representation: 1100\n"
     ]
    }
   ],
   "source": [
    "#Scenario8\n",
    "decimal_number = int(input(\"Enter a decimal number: \"))\n",
    "binary_string = \"\"\n",
    "if decimal_number == 0:\n",
    "    binary_string = \"0\"\n",
    "else:\n",
    "    while decimal_number > 0:\n",
    "        remainder = decimal_number % 2\n",
    "        binary_string += str(remainder)\n",
    "        decimal_number = decimal_number // 2\n",
    "        binary_string = binary_string[::-1]\n",
    "print(\"Binary representation:\", binary_string)\n"
   ]
  },
  {
   "cell_type": "code",
   "execution_count": 13,
   "id": "8e78a5fd-b06f-4006-8b69-21da5ccf1c34",
   "metadata": {},
   "outputs": [
    {
     "name": "stdout",
     "output_type": "stream",
     "text": [
      "loganathan\n"
     ]
    }
   ],
   "source": [
    "#Scenario9\n",
    "def find_longest_word(sentence):\n",
    "    words = sentence.split()  \n",
    "    longest_word = \"\"\n",
    "    for word in words:\n",
    "        if len(word) > len(longest_word):\n",
    "            longest_word = word\n",
    "    print(longest_word)\n",
    "\n",
    "sentence = \"this is loganathan\"\n",
    "find_longest_word(sentence)"
   ]
  },
  {
   "cell_type": "code",
   "execution_count": 14,
   "id": "e0c382de-5e4a-46b8-9ef7-8e648bee1306",
   "metadata": {},
   "outputs": [
    {
     "name": "stdin",
     "output_type": "stream",
     "text": [
      "Enter first string:  kklog\n",
      "Enter second string:  ko\n"
     ]
    },
    {
     "name": "stdout",
     "output_type": "stream",
     "text": [
      "Not an Anagram\n"
     ]
    }
   ],
   "source": [
    "#scenario10\n",
    "def check_anagram(str1, str2):\n",
    "    str1 = str1.replace(\" \", \"\").lower()\n",
    "    str2 = str2.replace(\" \", \"\").lower()\n",
    "    if sorted(str1) == sorted(str2):\n",
    "        print(\"Anagram\")\n",
    "    else:\n",
    "        print(\"Not an Anagram\")\n",
    "str1 = input(\"Enter first string: \")\n",
    "str2 = input(\"Enter second string: \")\n",
    "\n",
    "check_anagram(str1, str2)"
   ]
  },
  {
   "cell_type": "code",
   "execution_count": null,
   "id": "ba0da56a-9d9a-4e29-85a5-8cb37368e075",
   "metadata": {},
   "outputs": [],
   "source": []
  }
 ],
 "metadata": {
  "kernelspec": {
   "display_name": "Python 3 (ipykernel)",
   "language": "python",
   "name": "python3"
  },
  "language_info": {
   "codemirror_mode": {
    "name": "ipython",
    "version": 3
   },
   "file_extension": ".py",
   "mimetype": "text/x-python",
   "name": "python",
   "nbconvert_exporter": "python",
   "pygments_lexer": "ipython3",
   "version": "3.12.7"
  }
 },
 "nbformat": 4,
 "nbformat_minor": 5
}
