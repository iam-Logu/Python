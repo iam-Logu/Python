{
 "cells": [
  {
   "cell_type": "code",
   "execution_count": null,
   "id": "5fd5c475",
   "metadata": {},
   "outputs": [],
   "source": [
    "1.Write a Python program that prints numbers from 1 to 5.\n",
    "Expected Output:\n",
    "1 2 3 4 5\n"
   ]
  },
  {
   "cell_type": "code",
   "execution_count": 23,
   "id": "54a3a2d7-b2d8-44e8-b2de-5d5da444f000",
   "metadata": {},
   "outputs": [
    {
     "name": "stdout",
     "output_type": "stream",
     "text": [
      "1\n",
      "2\n",
      "3\n",
      "4\n",
      "5\n"
     ]
    }
   ],
   "source": [
    "\n",
    "for i in range(1,6):\n",
    "    #print(i,end=\"\")\n",
    "    print(i)\n",
    "\n",
    "    "
   ]
  },
  {
   "cell_type": "code",
   "execution_count": 31,
   "id": "3c8bc472",
   "metadata": {},
   "outputs": [
    {
     "name": "stdout",
     "output_type": "stream",
     "text": [
      "First 5 even nos 2\n",
      "Count 1\n",
      "First 5 even nos 4\n",
      "Count 2\n",
      "First 5 even nos 6\n",
      "Count 3\n",
      "First 5 even nos 8\n",
      "Count 4\n",
      "First 5 even nos 10\n",
      "Count 5\n"
     ]
    }
   ],
   "source": [
    "#2.Write a Python program to print the first 5 even numbers. Expected Output:\n",
    "#2 4 6 8 10\n",
    "count=0\n",
    "list=[1,2,3,4,5,6,7,8,9,10,11,12]\n",
    "for i in list:\n",
    "    if(i%2==0):\n",
    "        count=count+1\n",
    "        if(count <=5):\n",
    "            print(\"First 5 even nos\",i)\n",
    "            print(\"Count\",count)\n",
    "        "
   ]
  },
  {
   "cell_type": "code",
   "execution_count": 40,
   "id": "5e7af211",
   "metadata": {},
   "outputs": [
    {
     "name": "stdout",
     "output_type": "stream",
     "text": [
      "sum of numbers from 1-10 is , 55\n"
     ]
    }
   ],
   "source": [
    "#3.Write a Python program to print the sum of numbers from 1 to 10. \n",
    "#Expected Output:55\n",
    "j=0\n",
    "for i in range(1,11):\n",
    "    j=j+i\n",
    "print(\"sum of numbers from 1-10 is ,\",j)\n"
   ]
  },
  {
   "cell_type": "code",
   "execution_count": 59,
   "id": "ac09aa1a",
   "metadata": {
    "collapsed": true,
    "jupyter": {
     "outputs_hidden": true
    }
   },
   "outputs": [
    {
     "name": "stdout",
     "output_type": "stream",
     "text": [
      "Factorial Of 5 is  120\n"
     ]
    }
   ],
   "source": [
    "#4.Write a Python function to find the factorial of 5. Expected Output:\n",
    "#120\n",
    "j=1\n",
    "for i in range(1,6):\n",
    "    j=j*i\n",
    "print(\"Factorial Of 5 is \",j)\n",
    "    \n"
   ]
  },
  {
   "cell_type": "markdown",
   "id": "437da389-0642-4d1f-8c2f-1693b9ca454c",
   "metadata": {},
   "source": [
    "\n"
   ]
  },
  {
   "cell_type": "code",
   "execution_count": 62,
   "id": "0cb0ab74-dfe5-43b2-8086-47d66ebaae94",
   "metadata": {},
   "outputs": [
    {
     "name": "stdin",
     "output_type": "stream",
     "text": [
      "Enter Number 4\n"
     ]
    },
    {
     "name": "stdout",
     "output_type": "stream",
     "text": [
      "Not Prime number\n"
     ]
    }
   ],
   "source": [
    "#5.Write a Python program to check if a number is prime. Expected Output (for input 7):\n",
    "#7 is a prime number\n",
    "number=int(input(\"Enter Number\"))\n",
    "count=0\n",
    "for i in range(1,number+1):\n",
    "    if(number%i==0):\n",
    "        count=count+1\n",
    "if(count==2):\n",
    "    print(\"Prime Number\")\n",
    "else:\n",
    "    print(\"Not Prime number\")"
   ]
  },
  {
   "cell_type": "code",
   "execution_count": null,
   "id": "cc487395-629d-466b-889a-6c70a0c9bbeb",
   "metadata": {},
   "outputs": [],
   "source": []
  }
 ],
 "metadata": {
  "kernelspec": {
   "display_name": "Python 3 (ipykernel)",
   "language": "python",
   "name": "python3"
  },
  "language_info": {
   "codemirror_mode": {
    "name": "ipython",
    "version": 3
   },
   "file_extension": ".py",
   "mimetype": "text/x-python",
   "name": "python",
   "nbconvert_exporter": "python",
   "pygments_lexer": "ipython3",
   "version": "3.12.7"
  }
 },
 "nbformat": 4,
 "nbformat_minor": 5
}
